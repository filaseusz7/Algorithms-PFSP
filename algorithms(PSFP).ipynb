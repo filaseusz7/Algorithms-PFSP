{
 "cells": [
  {
   "attachments": {},
   "cell_type": "markdown",
   "metadata": {},
   "source": [
    "# Permutation flowshop scheduling problem"
   ]
  },
  {
   "cell_type": "code",
   "execution_count": 2,
   "metadata": {},
   "outputs": [],
   "source": [
    "import pandas as pd\n",
    "import random\n",
    "import copy\n",
    "import math"
   ]
  },
  {
   "attachments": {},
   "cell_type": "markdown",
   "metadata": {},
   "source": [
    "## Simulated annealing"
   ]
  },
  {
   "attachments": {},
   "cell_type": "markdown",
   "metadata": {},
   "source": [
    "- function for drawing the initial solution"
   ]
  },
  {
   "cell_type": "code",
   "execution_count": 19,
   "metadata": {},
   "outputs": [],
   "source": [
    "def random_shuffle(len_data):\n",
    "    listaMiast = list(range(1, len_data+1))\n",
    "    poczatkoweRozwiazanie = listaMiast.copy()\n",
    "    random.shuffle(poczatkoweRozwiazanie)\n",
    "    return poczatkoweRozwiazanie"
   ]
  },
  {
   "attachments": {},
   "cell_type": "markdown",
   "metadata": {},
   "source": [
    "- function summing up the time of performed tasks"
   ]
  },
  {
   "cell_type": "code",
   "execution_count": 20,
   "metadata": {},
   "outputs": [],
   "source": [
    "def timeSum(data, tasksOrder):    \n",
    "    columns = len(data[0])\n",
    "    rows = len(data)\n",
    "\n",
    "    #create an empty list (like in excels)\n",
    "    listOfTasks=[[0]*columns for i in range(rows)]\n",
    "\n",
    "    #complete the list with the first row\n",
    "    for i in range(columns):\n",
    "        listOfTasks[0][i] = data[tasksOrder[0]-1][i]+listOfTasks[0][i-1]\n",
    "\n",
    "    #complete the list with the first column   \n",
    "    for j in range(1, rows):\n",
    "        listOfTasks[j][0] = data[tasksOrder[j]-1][0]+listOfTasks[j-1][0]\n",
    "\n",
    "    #complete the rest of the list items\n",
    "    for i in range(1, columns):\n",
    "        for j in range(1, rows):\n",
    "            listOfTasks[j][i] = data[tasksOrder[j]-1][i] + max(listOfTasks[j-1][i], listOfTasks[j][i-1])\n",
    "\n",
    "    return listOfTasks[rows-1][columns-1]"
   ]
  },
  {
   "attachments": {},
   "cell_type": "markdown",
   "metadata": {},
   "source": [
    "- a function that finds a new solution depending on the selected neighborhood"
   ]
  },
  {
   "cell_type": "code",
   "execution_count": 21,
   "metadata": {},
   "outputs": [],
   "source": [
    "def solution(initialSolution, newSolution, neighborhood, list):\n",
    "    twoRandomList = random.sample(range(len(list)), 2)\n",
    "\n",
    "    if (neighborhood == \"SWAP\"):\n",
    "        newSolution[twoRandomList[0]] = initialSolution[twoRandomList[1]]\n",
    "        newSolution[twoRandomList[1]] = initialSolution[twoRandomList[0]]\n",
    "    elif (neighborhood == \"INVERSION\"):\n",
    "        if(twoRandomList[0] < twoRandomList[1]):\n",
    "            newSolution[twoRandomList[0] : twoRandomList[1] + 1] = reversed(newSolution[twoRandomList[0] : twoRandomList[1] + 1])\n",
    "        else:\n",
    "            newSolution[twoRandomList[1] : twoRandomList[0] + 1] = reversed(newSolution[twoRandomList[1] : twoRandomList[0] + 1])\n",
    "    elif (neighborhood == \"INSERTION\"):\n",
    "        if(twoRandomList[0] < twoRandomList[1]):\n",
    "            newSolution.insert(twoRandomList[0]+1, newSolution.pop(twoRandomList[1]))\n",
    "        else:\n",
    "            newSolution.insert(twoRandomList[1]+1, newSolution.pop(twoRandomList[0]))\n",
    "    \n",
    "    return newSolution"
   ]
  },
  {
   "attachments": {},
   "cell_type": "markdown",
   "metadata": {},
   "source": [
    "SA algorithm, parameters:\n",
    "- `data`\n",
    "- `alpha` - affects the rate of temperature reduction\n",
    "- `t` - initial temperature\n",
    "- `trialsPerEpoch` - number of trials in a given temperature\n",
    "- `tMin` - minimal temperature, when it is reached, the algorithm ends\n",
    "- `neighborhood` - the type of neighborhood (swap/inversion/insertion) "
   ]
  },
  {
   "cell_type": "code",
   "execution_count": 34,
   "metadata": {},
   "outputs": [],
   "source": [
    "def simulatedAnnealing(data, alpha, t, trialsPerEpoch, tMin, neighborhood):\n",
    "    list = data.values.tolist()\n",
    "    initialSolution = random_shuffle(len(list))\n",
    "    sum = 499999\n",
    "    sumSum = 500000 #so that we can save the smallest sum that has rolled over while the algorithm is running\n",
    "    sumList = []\n",
    "    while t > tMin:\n",
    "        trial = 0\n",
    "        while trial < trialsPerEpoch:\n",
    "            newSolution = copy.deepcopy(initialSolution)\n",
    "            solution(initialSolution, newSolution, neighborhood, list)\n",
    "            \n",
    "            newSum = timeSum(list, newSolution)\n",
    "            oldSum = timeSum(list, initialSolution)\n",
    "\n",
    "            #checking whether the new solution is better than the current one\n",
    "            if(newSum < oldSum):\n",
    "                initialSolution = newSolution\n",
    "                sum = newSum\n",
    "            else:\n",
    "                if(random.uniform(0, 1) < math.exp(-(newSum - oldSum)/t)):\n",
    "                    initialSolution = newSolution\n",
    "                    sum = newSum\n",
    "            trial += 1\n",
    "        t = t * alpha\n",
    "        #checking if the new smallest sum is less than the \"by now\" smallest sum\n",
    "        if(sumSum > sum):\n",
    "            sumSum = sum\n",
    "            sumList = initialSolution\n",
    "    print(\"Sum:\", sum)\n",
    "    print(\"Order of tasks:\", initialSolution)\n",
    "    if(sumSum < sum):\n",
    "        print(\"\\nPossible lower sum:\", sumSum)\n",
    "        print(\"Order of tasks:\", sumList)"
   ]
  },
  {
   "cell_type": "code",
   "execution_count": 23,
   "metadata": {},
   "outputs": [],
   "source": [
    "data50 = pd.read_excel(\"Dane_PFSP_50_20.xlsx\", index_col=0)\n",
    "data100 = pd.read_excel(\"Dane_PFSP_100_10.xlsx\", index_col=0)\n",
    "data200 = pd.read_excel(\"Dane_PFSP_200_10.xlsx\", index_col=0)"
   ]
  },
  {
   "attachments": {},
   "cell_type": "markdown",
   "metadata": {},
   "source": [
    "- example of operation"
   ]
  },
  {
   "cell_type": "code",
   "execution_count": null,
   "metadata": {},
   "outputs": [],
   "source": [
    "data = [data50, data100, data200]\n",
    "\n",
    "for i in range(0,len(data)):\n",
    "    print(\"======== SET:\", i+1, \"========\")\n",
    "    n = 0\n",
    "    while n < 4:\n",
    "        print(\"\\nREP:\", n+1)    \n",
    "        simulatedAnnealing(data[i], 0.5, 500, 500, 10, \"SWAP\")\n",
    "        n += 1"
   ]
  },
  {
   "attachments": {},
   "cell_type": "markdown",
   "metadata": {},
   "source": [
    "## Hill climbing"
   ]
  },
  {
   "attachments": {},
   "cell_type": "markdown",
   "metadata": {},
   "source": [
    "HC algorithm, parameters:\n",
    "- `data`\n",
    "- `iterationsWithoutImprovement` - after reaching given number of interations without improvement the algoritms ends\n",
    "- `neighborhood` - the type of neighborhood (swap/inversion/insertion)\n",
    "- `iterations` - after reaching given number of iterations the algoritm ends"
   ]
  },
  {
   "cell_type": "code",
   "execution_count": 32,
   "metadata": {},
   "outputs": [],
   "source": [
    "def hillClimbing(data, iterationsWithoutImprovement, neighborhood, iterations):\n",
    "    list = data.values.tolist()\n",
    "    initialSolution = random_shuffle(len(list))\n",
    "    iFlat = 0\n",
    "    numberOfTrials = 0\n",
    "    while iterationsWithoutImprovement!=iFlat and numberOfTrials!=iterations:\n",
    "        newSolution = copy.deepcopy(initialSolution)\n",
    "        solution(initialSolution, newSolution, neighborhood, list)\n",
    "        \n",
    "        newSum = timeSum(list, newSolution)\n",
    "        oldSum = timeSum(list, initialSolution)\n",
    "        if newSum >= oldSum:\n",
    "            iFlat = iFlat+1\n",
    "        else: \n",
    "            initialSolution=newSolution\n",
    "            oldSum=newSum\n",
    "            iFlat=0\n",
    "        numberOfTrials=numberOfTrials+1\n",
    "\n",
    "    print(\"Sum:\", newSum)\n",
    "    print(\"Order of tasks:\", newSolution)"
   ]
  },
  {
   "attachments": {},
   "cell_type": "markdown",
   "metadata": {},
   "source": [
    "- example of operation"
   ]
  },
  {
   "cell_type": "code",
   "execution_count": null,
   "metadata": {},
   "outputs": [],
   "source": [
    "data = [data50, data100, data200]\n",
    "\n",
    "for i in range(0,len(data)):\n",
    "    print(\"======== SET:\", i+1, \"========\")\n",
    "    n = 0\n",
    "    while n < 4:\n",
    "        print(\"\\nREP:\", n+1)    \n",
    "        hillClimbing(data[i], 5000, \"SWAP\", 20000)\n",
    "        n += 1"
   ]
  }
 ],
 "metadata": {
  "kernelspec": {
   "display_name": "Python 3",
   "language": "python",
   "name": "python3"
  },
  "language_info": {
   "codemirror_mode": {
    "name": "ipython",
    "version": 3
   },
   "file_extension": ".py",
   "mimetype": "text/x-python",
   "name": "python",
   "nbconvert_exporter": "python",
   "pygments_lexer": "ipython3",
   "version": "3.9.0"
  },
  "orig_nbformat": 4,
  "vscode": {
   "interpreter": {
    "hash": "11938c6bc6919ae2720b4d5011047913343b08a43b18698fd82dedb0d4417594"
   }
  }
 },
 "nbformat": 4,
 "nbformat_minor": 2
}
