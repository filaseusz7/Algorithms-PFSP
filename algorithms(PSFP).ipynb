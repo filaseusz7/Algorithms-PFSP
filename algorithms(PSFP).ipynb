{
 "cells": [
  {
   "attachments": {},
   "cell_type": "markdown",
   "metadata": {},
   "source": [
    "# Permutation flowshop scheduling problem"
   ]
  },
  {
   "cell_type": "code",
   "execution_count": 99,
   "metadata": {},
   "outputs": [],
   "source": [
    "import pandas as pd\n",
    "import random\n",
    "import copy\n",
    "import math"
   ]
  },
  {
   "attachments": {},
   "cell_type": "markdown",
   "metadata": {},
   "source": [
    "## Simulated annealing"
   ]
  },
  {
   "attachments": {},
   "cell_type": "markdown",
   "metadata": {},
   "source": [
    "- function for drawing the initial solution"
   ]
  },
  {
   "cell_type": "code",
   "execution_count": 1,
   "metadata": {},
   "outputs": [],
   "source": [
    "def random_shuffle(len_data):\n",
    "    startList = list(range(1, len_data+1))\n",
    "    initialSolution = startList.copy()\n",
    "    random.shuffle(initialSolution)\n",
    "    return initialSolution"
   ]
  },
  {
   "attachments": {},
   "cell_type": "markdown",
   "metadata": {},
   "source": [
    "- function summing up the time of performed tasks"
   ]
  },
  {
   "cell_type": "code",
   "execution_count": 101,
   "metadata": {},
   "outputs": [],
   "source": [
    "def timeSum(data, tasksOrder):    \n",
    "    columns = len(data[0])\n",
    "    rows = len(data)\n",
    "\n",
    "    #create an empty list (like in excels)\n",
    "    listOfTasks=[[0]*columns for i in range(rows)]\n",
    "\n",
    "    #complete the list with the first row\n",
    "    for i in range(columns):\n",
    "        listOfTasks[0][i] = data[tasksOrder[0]-1][i]+listOfTasks[0][i-1]\n",
    "\n",
    "    #complete the list with the first column   \n",
    "    for j in range(1, rows):\n",
    "        listOfTasks[j][0] = data[tasksOrder[j]-1][0]+listOfTasks[j-1][0]\n",
    "\n",
    "    #complete the rest of the list items\n",
    "    for i in range(1, columns):\n",
    "        for j in range(1, rows):\n",
    "            listOfTasks[j][i] = data[tasksOrder[j]-1][i] + max(listOfTasks[j-1][i], listOfTasks[j][i-1])\n",
    "\n",
    "    return listOfTasks[rows-1][columns-1]"
   ]
  },
  {
   "attachments": {},
   "cell_type": "markdown",
   "metadata": {},
   "source": [
    "- a function that finds a new solution depending on the selected neighborhood"
   ]
  },
  {
   "cell_type": "code",
   "execution_count": 102,
   "metadata": {},
   "outputs": [],
   "source": [
    "def solution(initialSolution, newSolution, neighborhood, list):\n",
    "    twoRandomList = random.sample(range(len(list)), 2)\n",
    "\n",
    "    if (neighborhood == \"SWAP\"):\n",
    "        newSolution[twoRandomList[0]] = initialSolution[twoRandomList[1]]\n",
    "        newSolution[twoRandomList[1]] = initialSolution[twoRandomList[0]]\n",
    "    elif (neighborhood == \"INVERSION\"):\n",
    "        if(twoRandomList[0] < twoRandomList[1]):\n",
    "            newSolution[twoRandomList[0] : twoRandomList[1] + 1] = reversed(newSolution[twoRandomList[0] : twoRandomList[1] + 1])\n",
    "        else:\n",
    "            newSolution[twoRandomList[1] : twoRandomList[0] + 1] = reversed(newSolution[twoRandomList[1] : twoRandomList[0] + 1])\n",
    "    elif (neighborhood == \"INSERTION\"):\n",
    "        if(twoRandomList[0] < twoRandomList[1]):\n",
    "            newSolution.insert(twoRandomList[0]+1, newSolution.pop(twoRandomList[1]))\n",
    "        else:\n",
    "            newSolution.insert(twoRandomList[1]+1, newSolution.pop(twoRandomList[0]))\n",
    "    \n",
    "    return newSolution"
   ]
  },
  {
   "attachments": {},
   "cell_type": "markdown",
   "metadata": {},
   "source": [
    "SA algorithm, parameters:\n",
    "- `data`\n",
    "- `alpha` - affects the rate of temperature reduction\n",
    "- `t` - initial temperature\n",
    "- `trialsPerEpoch` - number of trials in a given temperature\n",
    "- `tMin` - minimal temperature, when it is reached, the algorithm ends\n",
    "- `neighborhood` - the type of neighborhood (swap/inversion/insertion) "
   ]
  },
  {
   "cell_type": "code",
   "execution_count": 103,
   "metadata": {},
   "outputs": [],
   "source": [
    "def simulatedAnnealing(data, alpha, t, trialsPerEpoch, tMin, neighborhood):\n",
    "    list = data.values.tolist()\n",
    "    initialSolution = random_shuffle(len(list))\n",
    "    sum = 499999\n",
    "    sumSum = 500000 #so that we can save the smallest sum that has rolled over while the algorithm is running\n",
    "    sumList = []\n",
    "    while t > tMin:\n",
    "        trial = 0\n",
    "        while trial < trialsPerEpoch:\n",
    "            newSolution = copy.deepcopy(initialSolution)\n",
    "            solution(initialSolution, newSolution, neighborhood, list)\n",
    "            \n",
    "            newSum = timeSum(list, newSolution)\n",
    "            oldSum = timeSum(list, initialSolution)\n",
    "\n",
    "            #checking whether the new solution is better than the current one\n",
    "            if(newSum < oldSum):\n",
    "                initialSolution = newSolution\n",
    "                sum = newSum\n",
    "            else:\n",
    "                if(random.uniform(0, 1) < math.exp(-(newSum - oldSum)/t)):\n",
    "                    initialSolution = newSolution\n",
    "                    sum = newSum\n",
    "            trial += 1\n",
    "        t = t * alpha\n",
    "        #checking if the new smallest sum is less than the \"by now\" smallest sum\n",
    "        if(sumSum > sum):\n",
    "            sumSum = sum\n",
    "            sumList = initialSolution\n",
    "    print(\"Sum:\", sum)\n",
    "    print(\"Order of tasks:\", initialSolution)\n",
    "    if(sumSum < sum):\n",
    "        print(\"\\nPossible lower sum:\", sumSum)\n",
    "        print(\"Order of tasks:\", sumList)"
   ]
  },
  {
   "cell_type": "code",
   "execution_count": 104,
   "metadata": {},
   "outputs": [],
   "source": [
    "data50 = pd.read_excel(\"Dane_PFSP_50_20.xlsx\", index_col=0)\n",
    "data100 = pd.read_excel(\"Dane_PFSP_100_10.xlsx\", index_col=0)\n",
    "data200 = pd.read_excel(\"Dane_PFSP_200_10.xlsx\", index_col=0)"
   ]
  },
  {
   "attachments": {},
   "cell_type": "markdown",
   "metadata": {},
   "source": [
    "- example of operation"
   ]
  },
  {
   "cell_type": "code",
   "execution_count": null,
   "metadata": {},
   "outputs": [],
   "source": [
    "data = [data50, data100, data200]\n",
    "\n",
    "for i in range(0,len(data)):\n",
    "    print(\"======== SET:\", i+1, \"========\")\n",
    "    n = 0\n",
    "    while n < 4:\n",
    "        print(\"\\nREP:\", n+1)    \n",
    "        simulatedAnnealing(data[i], 0.5, 500, 500, 10, \"SWAP\")\n",
    "        n += 1"
   ]
  },
  {
   "attachments": {},
   "cell_type": "markdown",
   "metadata": {},
   "source": [
    "## Hill climbing"
   ]
  },
  {
   "attachments": {},
   "cell_type": "markdown",
   "metadata": {},
   "source": [
    "HC algorithm, parameters:\n",
    "- `data`\n",
    "- `iterationsWithoutImprovement` - after reaching given number of interations without improvement the algoritms ends\n",
    "- `neighborhood` - the type of neighborhood (swap/inversion/insertion)\n",
    "- `iterations` - after reaching given number of iterations the algoritm ends"
   ]
  },
  {
   "cell_type": "code",
   "execution_count": 106,
   "metadata": {},
   "outputs": [],
   "source": [
    "def hillClimbing(data, iterationsWithoutImprovement, neighborhood, iterations):\n",
    "    list = data.values.tolist()\n",
    "    initialSolution = random_shuffle(len(list))\n",
    "    sum = 0\n",
    "    iFlat = 0\n",
    "    numberOfTrials = 0\n",
    "    while iterationsWithoutImprovement != iFlat and numberOfTrials != iterations:\n",
    "        newSolution = copy.deepcopy(initialSolution)\n",
    "        solution(initialSolution, newSolution, neighborhood, list)\n",
    "        \n",
    "        newSum = timeSum(list, newSolution)\n",
    "        oldSum = timeSum(list, initialSolution)\n",
    "        if newSum >= oldSum:\n",
    "            iFlat = iFlat+1\n",
    "        else: \n",
    "            initialSolution = newSolution\n",
    "            sum = newSum\n",
    "            iFlat = 0\n",
    "        numberOfTrials = numberOfTrials+1\n",
    "\n",
    "    print(\"Sum:\", sum)\n",
    "    print(\"Order of tasks:\", initialSolution)"
   ]
  },
  {
   "attachments": {},
   "cell_type": "markdown",
   "metadata": {},
   "source": [
    "- example of operation"
   ]
  },
  {
   "cell_type": "code",
   "execution_count": null,
   "metadata": {},
   "outputs": [],
   "source": [
    "data = [data50, data100, data200]\n",
    "\n",
    "for i in range(0,len(data)):\n",
    "    print(\"======== SET:\", i+1, \"========\")\n",
    "    n = 0\n",
    "    while n < 4:\n",
    "        print(\"\\nREP:\", n+1)    \n",
    "        hillClimbing(data[i], 5000, \"SWAP\", 20000)\n",
    "        n += 1"
   ]
  },
  {
   "attachments": {},
   "cell_type": "markdown",
   "metadata": {},
   "source": [
    "## NEH"
   ]
  },
  {
   "cell_type": "code",
   "execution_count": 108,
   "metadata": {},
   "outputs": [],
   "source": [
    "def timeSum2(data, tasksOrder):    \n",
    "    columns = len(data[0])\n",
    "    rows = len(tasksOrder)\n",
    "\n",
    "    #create an empty list (like in excels)\n",
    "    listOfTasks=[[0]*columns for i in range(rows)]\n",
    "\n",
    "    #complete the list with the first row\n",
    "    for i in range(columns):\n",
    "        listOfTasks[0][i] = data[tasksOrder[0]-1][i]+listOfTasks[0][i-1]\n",
    "\n",
    "    #complete the list with the first column   \n",
    "    for j in range(1, rows):\n",
    "        listOfTasks[j][0] = data[tasksOrder[j]-1][0]+listOfTasks[j-1][0]\n",
    "\n",
    "    #complete the rest of the list items\n",
    "    for i in range(1, columns):\n",
    "        for j in range(1, rows):\n",
    "            listOfTasks[j][i] = data[tasksOrder[j]-1][i] + max(listOfTasks[j-1][i], listOfTasks[j][i-1])\n",
    "\n",
    "    return listOfTasks[rows-1][columns-1]"
   ]
  },
  {
   "attachments": {},
   "cell_type": "markdown",
   "metadata": {},
   "source": [
    "NEH algorithm, parameters:\n",
    "- `data`"
   ]
  },
  {
   "cell_type": "code",
   "execution_count": 109,
   "metadata": {},
   "outputs": [],
   "source": [
    "def neh(data):\n",
    "    summ = [[i + 1] * 2 for i in range(len(data))]\n",
    "    for a in range(len(data)):\n",
    "        summ[a][1] = sum(data[a])\n",
    "    summ.sort(key = lambda x:x[-1], reverse = True)\n",
    "    if(timeSum2(data, [summ[0][0], summ[1][0]]) > timeSum2(data, [summ[1][0], summ[0][0]])):\n",
    "        order = [summ[1][0], summ[0][0]]\n",
    "    else:\n",
    "        order = [summ[0][0], summ[1][0]]\n",
    "    for k in range(2,len(summ)):\n",
    "        newOrder = copy.deepcopy(order)\n",
    "        newTime = 999999\n",
    "        for i in range(len(order) + 1):\n",
    "            newOrder.insert(i, summ[k][0])\n",
    "            if(timeSum2(data, newOrder) < newTime):\n",
    "                newTime = timeSum2(data, newOrder)\n",
    "                order=copy.deepcopy(newOrder)\n",
    "            newOrder.remove(newOrder[i])\n",
    "    dl = timeSum2(data, order)\n",
    "    print(\"OrderOfTasks:\", order)\n",
    "    print(\"Sum:\", dl)"
   ]
  },
  {
   "cell_type": "code",
   "execution_count": 110,
   "metadata": {},
   "outputs": [],
   "source": [
    "df50 = data50.values.tolist()\n",
    "df100 = data100.values.tolist()\n",
    "df200 = data200.values.tolist()"
   ]
  },
  {
   "attachments": {},
   "cell_type": "markdown",
   "metadata": {},
   "source": [
    "- example of operation"
   ]
  },
  {
   "cell_type": "code",
   "execution_count": 111,
   "metadata": {},
   "outputs": [
    {
     "name": "stdout",
     "output_type": "stream",
     "text": [
      "OrderOfTasks: [76, 91, 117, 19, 8, 31, 46, 129, 115, 18, 165, 48, 10, 110, 118, 99, 60, 126, 37, 6, 164, 61, 82, 147, 176, 130, 149, 113, 62, 20, 190, 189, 14, 137, 2, 144, 148, 9, 28, 141, 15, 57, 199, 157, 169, 64, 74, 43, 98, 21, 163, 63, 174, 16, 77, 86, 11, 111, 145, 44, 102, 73, 75, 133, 71, 154, 53, 121, 155, 140, 13, 1, 17, 24, 139, 30, 127, 80, 32, 41, 92, 40, 22, 69, 180, 93, 47, 51, 94, 183, 191, 175, 72, 114, 59, 182, 188, 7, 107, 192, 153, 200, 120, 151, 167, 89, 36, 68, 104, 171, 134, 26, 150, 12, 124, 178, 135, 197, 49, 81, 85, 78, 4, 27, 108, 112, 42, 173, 162, 119, 38, 142, 193, 196, 132, 143, 83, 160, 123, 156, 96, 187, 172, 177, 181, 23, 25, 158, 56, 97, 29, 65, 105, 84, 5, 166, 45, 170, 88, 35, 136, 55, 3, 70, 50, 168, 184, 79, 87, 161, 131, 109, 66, 34, 185, 106, 116, 159, 138, 95, 125, 186, 58, 198, 152, 194, 33, 103, 100, 52, 39, 128, 101, 67, 122, 54, 195, 179, 146, 90]\n",
      "Sum: 10720\n"
     ]
    }
   ],
   "source": [
    "neh(df200)"
   ]
  }
 ],
 "metadata": {
  "kernelspec": {
   "display_name": "Python 3",
   "language": "python",
   "name": "python3"
  },
  "language_info": {
   "codemirror_mode": {
    "name": "ipython",
    "version": 3
   },
   "file_extension": ".py",
   "mimetype": "text/x-python",
   "name": "python",
   "nbconvert_exporter": "python",
   "pygments_lexer": "ipython3",
   "version": "3.9.0"
  },
  "orig_nbformat": 4,
  "vscode": {
   "interpreter": {
    "hash": "11938c6bc6919ae2720b4d5011047913343b08a43b18698fd82dedb0d4417594"
   }
  }
 },
 "nbformat": 4,
 "nbformat_minor": 2
}
