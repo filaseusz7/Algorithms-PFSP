{
 "cells": [
  {
   "attachments": {},
   "cell_type": "markdown",
   "metadata": {},
   "source": [
    "# Traveling salesman problem"
   ]
  },
  {
   "attachments": {},
   "cell_type": "markdown",
   "metadata": {},
   "source": [
    "### Simulated annealing"
   ]
  },
  {
   "cell_type": "code",
   "execution_count": 2,
   "metadata": {},
   "outputs": [],
   "source": [
    "import pandas as pd\n",
    "import random\n",
    "import copy\n",
    "import math"
   ]
  },
  {
   "cell_type": "code",
   "execution_count": 19,
   "metadata": {},
   "outputs": [],
   "source": [
    "#function for drawing the initial solution\n",
    "def random_shuffle(len_data):\n",
    "    listaMiast = list(range(1, len_data+1))\n",
    "    poczatkoweRozwiazanie = listaMiast.copy()\n",
    "    random.shuffle(poczatkoweRozwiazanie)\n",
    "    return poczatkoweRozwiazanie"
   ]
  },
  {
   "cell_type": "code",
   "execution_count": 20,
   "metadata": {},
   "outputs": [],
   "source": [
    "#function summing up the time of performed tasks\n",
    "def timeSum(data, tasksOrder):    \n",
    "    columns = len(data[0])\n",
    "    rows = len(data)\n",
    "\n",
    "    #create an empty list (like in excels)\n",
    "    listOfTasks=[[0]*columns for i in range(rows)]\n",
    "\n",
    "    #complete the list with the first row\n",
    "    for i in range(columns):\n",
    "        listOfTasks[0][i] = data[tasksOrder[0]-1][i]+listOfTasks[0][i-1]\n",
    "\n",
    "    #complete the list with the first column   \n",
    "    for j in range(1, rows):\n",
    "        listOfTasks[j][0] = data[tasksOrder[j]-1][0]+listOfTasks[j-1][0]\n",
    "\n",
    "    #complete the rest of the list items\n",
    "    for i in range(1, columns):\n",
    "        for j in range(1, rows):\n",
    "            listOfTasks[j][i] = data[tasksOrder[j]-1][i] + max(listOfTasks[j-1][i], listOfTasks[j][i-1])\n",
    "\n",
    "    return listOfTasks[rows-1][columns-1]"
   ]
  },
  {
   "cell_type": "code",
   "execution_count": 21,
   "metadata": {},
   "outputs": [],
   "source": [
    "#a function that finds a new solution depending on the selected neighborhood\n",
    "def solution(initialSolution, newSolution, neighborhood, list):\n",
    "    twoRandomList = random.sample(range(len(list)), 2)\n",
    "\n",
    "    if (neighborhood == \"SWAP\"):\n",
    "        newSolution[twoRandomList[0]] = initialSolution[twoRandomList[1]]\n",
    "        newSolution[twoRandomList[1]] = initialSolution[twoRandomList[0]]\n",
    "    elif (neighborhood == \"INVERSION\"):\n",
    "        if(twoRandomList[0] < twoRandomList[1]):\n",
    "            newSolution[twoRandomList[0] : twoRandomList[1] + 1] = reversed(newSolution[twoRandomList[0] : twoRandomList[1] + 1])\n",
    "        else:\n",
    "            newSolution[twoRandomList[1] : twoRandomList[0] + 1] = reversed(newSolution[twoRandomList[1] : twoRandomList[0] + 1])\n",
    "    elif (neighborhood == \"INSERTION\"):\n",
    "        if(twoRandomList[0] < twoRandomList[1]):\n",
    "            newSolution.insert(twoRandomList[0]+1, newSolution.pop(twoRandomList[1]))\n",
    "        else:\n",
    "            newSolution.insert(twoRandomList[1]+1, newSolution.pop(twoRandomList[0]))\n",
    "    \n",
    "    return newSolution"
   ]
  },
  {
   "cell_type": "code",
   "execution_count": 22,
   "metadata": {},
   "outputs": [],
   "source": [
    "def algorithm(data, alpha, t, trialsPerEpoch, tMin, neighborhood):\n",
    "    list = data.values.tolist()\n",
    "    initialSolution = random_shuffle(len(list))\n",
    "    sum = 499999\n",
    "    sumSum = 500000 #so that we can save the smallest sum that has rolled over while the algorithm is running\n",
    "    sumList = []\n",
    "    while t > tMin:\n",
    "        trial = 0\n",
    "        while trial < trialsPerEpoch:\n",
    "            newSolution = copy.deepcopy(initialSolution)\n",
    "            solution(initialSolution, newSolution, neighborhood, list)\n",
    "            \n",
    "            newSum = timeSum(list, newSolution)\n",
    "            oldSum = timeSum(list, initialSolution)\n",
    "\n",
    "            #checking whether the new solution is better than the current one\n",
    "            if(newSum < oldSum):\n",
    "                initialSolution = newSolution\n",
    "                sum = newSum\n",
    "            else:\n",
    "                if(random.uniform(0, 1) < math.exp(-(newSum - oldSum)/t)):\n",
    "                    initialSolution = newSolution\n",
    "                    sum = newSum\n",
    "            trial += 1\n",
    "        t = t * alpha\n",
    "        #checking if the new smallest sum is less than the \"by now\" smallest sum\n",
    "        if(sumSum > sum):\n",
    "            sumSum = sum\n",
    "            sumList = initialSolution\n",
    "    print(\"Suma\", sum)\n",
    "    print(\"Kolejność:\", initialSolution)\n",
    "    if(sumSum < sum):\n",
    "        print(\"\\nMożliwa niższa suma\", sumSum)\n",
    "        print(\"Kolejność:\", sumList)"
   ]
  },
  {
   "cell_type": "code",
   "execution_count": 23,
   "metadata": {},
   "outputs": [],
   "source": [
    "data50 = pd.read_excel(\"Dane_PFSP_50_20.xlsx\", index_col=0)\n",
    "data100 = pd.read_excel(\"Dane_PFSP_100_10.xlsx\", index_col=0)\n",
    "data200 = pd.read_excel(\"Dane_PFSP_200_10.xlsx\", index_col=0)"
   ]
  },
  {
   "cell_type": "code",
   "execution_count": null,
   "metadata": {},
   "outputs": [],
   "source": [
    "#example of operation\n",
    "data = [data50, data100, data200]\n",
    "\n",
    "for i in range(0,len(data)):\n",
    "    print(\"======== Zestaw:\", i+1, \"========\")\n",
    "    n = 0\n",
    "    while n < 4:\n",
    "        print(\"POWTORZENIE:\", n+1)    \n",
    "        algorithm(data[i], 0.5, 500, 500, 10, \"SWAP\")\n",
    "        n += 1"
   ]
  }
 ],
 "metadata": {
  "kernelspec": {
   "display_name": "Python 3",
   "language": "python",
   "name": "python3"
  },
  "language_info": {
   "codemirror_mode": {
    "name": "ipython",
    "version": 3
   },
   "file_extension": ".py",
   "mimetype": "text/x-python",
   "name": "python",
   "nbconvert_exporter": "python",
   "pygments_lexer": "ipython3",
   "version": "3.9.0"
  },
  "orig_nbformat": 4,
  "vscode": {
   "interpreter": {
    "hash": "11938c6bc6919ae2720b4d5011047913343b08a43b18698fd82dedb0d4417594"
   }
  }
 },
 "nbformat": 4,
 "nbformat_minor": 2
}
